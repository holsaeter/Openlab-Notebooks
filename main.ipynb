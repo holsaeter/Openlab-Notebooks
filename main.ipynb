{
 "cells": [
  {
   "cell_type": "markdown",
   "metadata": {},
   "source": [
    "# Introduction\n",
    "This is a hands-on guide to OpenLab's Python client...\n",
    "\n",
    "[Web Client](https://live.openlab.app/)\n",
    "\n",
    "[Web Client User Guide and Python Client](http://www.openlabdrilling.org/about-open-lab-drilling/webclient/#)\n",
    "\n",
    "[OpenLab API](https://live.openlab.app/swagger/)\n",
    "\n"
   ]
  },
  {
   "cell_type": "markdown",
   "metadata": {},
   "source": [
    "## Some Useful Keyboard Shortcuts\n",
    "*(Help -> Keyboard Shortcuts for list of all shortcuts)*\n",
    "\n",
    "`tab` Show all available methods for object\n",
    "\n",
    "`Shift` `tab` Shows documentation for the selected method like argument info\n",
    "\n",
    "`Up/Down` Navigate between cells\n",
    "\n",
    "`Enter` Enter cell to edit\n",
    "\n",
    "`Esc` Exit cell editing\n",
    "\n",
    "`Ctrl` `Enter` Run selected cells code\n",
    "\n",
    "`Ctrl` `Left/Right` Previous/Next word (Hold down `Shift` to select multiple words)"
   ]
  },
  {
   "cell_type": "markdown",
   "metadata": {},
   "source": [
    "## Import libraries"
   ]
  },
  {
   "cell_type": "code",
   "execution_count": null,
   "metadata": {},
   "outputs": [],
   "source": [
    "#pretty printing\n",
    "import pprint as pr\n",
    "\n",
    "#matlab style plotting\n",
    "import matplotlib.pyplot as plt\n",
    "\n",
    "#matlab style arrays\n",
    "import numpy as np"
   ]
  },
  {
   "cell_type": "markdown",
   "metadata": {},
   "source": [
    "# Network"
   ]
  },
  {
   "cell_type": "markdown",
   "metadata": {},
   "source": [
    "## HTTP \n",
    "Hypertext Transfer Protocol, or HTTP, is the foundation application protocol for the internet (source - wikipedia). The 4 main methods that API's use, including Openlab, are:\n",
    "    \n",
    "    Post\n",
    "    Put\n",
    "    Get\n",
    "    Delete\n",
    "\n",
    "The OpenLab python client uses a library (oauth) to handle the dirty work and prepare the requests to the web client. Each call to openlab.http_client() creates a client instance from this library, and all HTTP methods can be called (like the following)\n",
    "\n",
    "```\n",
    "def whoami(self):\n",
    "\n",
    "        \"\"\"\n",
    "        Returns information about the current user\n",
    "        \"\"\"\n",
    "        r=self.client.get(self.url+\"/users/whoami\") \n",
    "        return self.standard_response(r, 200)\n",
    "        \n",
    "        ```\n",
    "        "
   ]
  },
  {
   "cell_type": "markdown",
   "metadata": {},
   "source": [
    "## Logging In"
   ]
  },
  {
   "cell_type": "code",
   "execution_count": null,
   "metadata": {},
   "outputs": [],
   "source": [
    "import openlab"
   ]
  },
  {
   "cell_type": "code",
   "execution_count": null,
   "metadata": {},
   "outputs": [],
   "source": [
    "# Copy and Paste the python generated script from live.openlab.app below\n",
    "username=None\n",
    "apikey=None\n",
    "licenseguid=None"
   ]
  },
  {
   "cell_type": "code",
   "execution_count": null,
   "metadata": {},
   "outputs": [],
   "source": [
    "session = openlab.http_client(username=username, apikey=apikey,licenseguid=licenseguid) #this intializes an http client that can be used for an entire openlab session"
   ]
  },
  {
   "cell_type": "markdown",
   "metadata": {},
   "source": [
    "## JSON Data\n",
    "JavaScript Object Notation, or JSON, is a text data structure which is both lightweight and easible parsable for computers, but also easy for humans to read and write (source - json.org). Which is why it is so popular. It is defined as key/value pairs seperated by a colon "
   ]
  },
  {
   "cell_type": "code",
   "execution_count": null,
   "metadata": {},
   "outputs": [],
   "source": [
    "# Information about userprint(session.whoami())\n",
    "session.whoami()"
   ]
  },
  {
   "cell_type": "code",
   "execution_count": null,
   "metadata": {},
   "outputs": [],
   "source": [
    "# Return type of session.whoami() is a dictionary\n",
    "type(session.whoami())"
   ]
  },
  {
   "cell_type": "code",
   "execution_count": null,
   "metadata": {},
   "outputs": [],
   "source": [
    "# We can see all the available keys using .keys() method\n",
    "session.whoami().keys()"
   ]
  },
  {
   "cell_type": "code",
   "execution_count": null,
   "metadata": {},
   "outputs": [],
   "source": [
    "# accessing a value associated to a dictionary\n",
    "session.whoami()['Name']"
   ]
  },
  {
   "cell_type": "markdown",
   "metadata": {},
   "source": [
    "# Configurations"
   ]
  },
  {
   "cell_type": "code",
   "execution_count": null,
   "metadata": {},
   "outputs": [],
   "source": [
    "configurations = session.configurations() # returns a list of all configurations\n",
    "msg = \"Configuration name is: {}\"\n",
    "for config in configurations: #lists can be accessed by indices or with for loops like here\n",
    "    pr.pprint(msg.format(config['Name']))"
   ]
  },
  {
   "cell_type": "code",
   "execution_count": null,
   "metadata": {},
   "outputs": [],
   "source": [
    "print(session.configuration_id(\"test\")) # note that you must put in configiuration names that you have created in the client\n",
    "print(session.configuration_id(\"test2\")) # for me, i had two configurations titled \"test\" and \"test2\""
   ]
  },
  {
   "cell_type": "code",
   "execution_count": null,
   "metadata": {},
   "outputs": [],
   "source": [
    "# or we could acces the value associated with the 'Name' key for each config without knowing/inputting anything manually\n",
    "for config in configurations:\n",
    "    config_id = session.configuration_id(config['Name'])\n",
    "    print(config_id)"
   ]
  },
  {
   "cell_type": "code",
   "execution_count": null,
   "metadata": {},
   "outputs": [],
   "source": [
    "# example of getting information that is nested \n",
    "for config in configurations: #configurations is a list with each index (i.e. config) being a dictionary\n",
    "    print(config['Name']) \n",
    "    simulations = session.configuration_simulations(config['ConfigurationID'])\n",
    "    for simulation in simulations:\n",
    "        print(\"\\t\" + simulation['Name'])"
   ]
  },
  {
   "cell_type": "markdown",
   "metadata": {},
   "source": [
    "# Simulation"
   ]
  },
  {
   "cell_type": "markdown",
   "metadata": {},
   "source": [
    "### Initializing Simulation"
   ]
  },
  {
   "cell_type": "code",
   "execution_count": null,
   "metadata": {},
   "outputs": [],
   "source": [
    "sim_name = \"Simulation from Notebook Tutorial\"\n",
    "config_name = \"test\"\n",
    "initial_bit_depth = 2500\n",
    "influx_mode = openlab.default_geopressure_gradient #optional positional argument that you can pass in. Otherwise, no influx mode is selected\n",
    "sim = session.create_simulation(config_name, sim_name, initial_bit_depth)\n",
    "sim.end_simulation_on_exiting = False # Don't end simulation upon code exit. Default is true"
   ]
  },
  {
   "cell_type": "markdown",
   "metadata": {},
   "source": [
    "### Stepping/running simulation"
   ]
  },
  {
   "cell_type": "code",
   "execution_count": null,
   "metadata": {},
   "outputs": [],
   "source": [
    "#step 100 time steps without setting anything and see that it ran/is running in web client\n",
    "for i in range(1,100):\n",
    "    sim.step(i)"
   ]
  },
  {
   "cell_type": "markdown",
   "metadata": {},
   "source": [
    "### Setting setpoints\n",
    "***Important!*** All units must be in SI"
   ]
  },
  {
   "cell_type": "markdown",
   "metadata": {},
   "source": [
    "##### Available setpoints"
   ]
  },
  {
   "cell_type": "code",
   "execution_count": null,
   "metadata": {},
   "outputs": [],
   "source": [
    "print(openlab.setpoints.all_setpoints())"
   ]
  },
  {
   "cell_type": "code",
   "execution_count": null,
   "metadata": {},
   "outputs": [],
   "source": [
    "sim.setpoints.SurfaceRPM = 2 #HZ\n",
    "sim.setpoints.TopOfStringVelocity = 0.02 #m/s\n",
    "sim.setpoints.DesiredROP = 0.02 #m/s\n",
    "sim.setpoints.FlowRateIn = 2500/60000 #converting l/min to m^3/s"
   ]
  },
  {
   "cell_type": "code",
   "execution_count": null,
   "metadata": {},
   "outputs": [],
   "source": [
    "start = sim.current_step()+1\n",
    "for i in range(start,start + 100):\n",
    "    sim.step(i)"
   ]
  },
  {
   "cell_type": "markdown",
   "metadata": {},
   "source": [
    "### Getting Results"
   ]
  },
  {
   "cell_type": "markdown",
   "metadata": {},
   "source": [
    "#### Available Results\n",
    "***Important!*** All units are returned in SI"
   ]
  },
  {
   "cell_type": "code",
   "execution_count": null,
   "metadata": {},
   "outputs": [],
   "source": [
    "print(openlab.results.all_results())"
   ]
  },
  {
   "cell_type": "code",
   "execution_count": null,
   "metadata": {},
   "outputs": [],
   "source": [
    "tags = [\"SPP\", \"DownholePressure\",\"SurfaceTorque\", \"BitDepth\", \"WOB\",\"DrillstringTension\",\"DrillstringBucklingLimit\"]"
   ]
  },
  {
   "cell_type": "code",
   "execution_count": null,
   "metadata": {},
   "outputs": [],
   "source": [
    "start = sim.current_step()+1\n",
    "for i in range(start,start+50):\n",
    "    sim.step(i)\n",
    "    sim.get_results(i, tags) # need to do this do avoid client waisting resources getting results user doesn't want"
   ]
  },
  {
   "cell_type": "code",
   "execution_count": null,
   "metadata": {},
   "outputs": [],
   "source": [
    "sim.results.SPP"
   ]
  },
  {
   "cell_type": "code",
   "execution_count": null,
   "metadata": {},
   "outputs": [],
   "source": [
    "## seeing those results\n",
    "msg = \"The last torque value was {}\"\n",
    "print(msg.format(sim.results.SurfaceTorque[i])) ## print the last torque"
   ]
  },
  {
   "cell_type": "code",
   "execution_count": null,
   "metadata": {},
   "outputs": [],
   "source": [
    "#or print a range of torques truncated with no decimals\n",
    "msg = \"Torque at time {} was {:0.0f}\"\n",
    "for timestep in range(i-10, i+1): # range doesn't include the endpooint so we need to add 1\n",
    "    print(msg.format(timestep, sim.results.SurfaceTorque[timestep])) #{0.0f} is a formatter meaning 0 decimal points"
   ]
  },
  {
   "cell_type": "markdown",
   "metadata": {},
   "source": [
    "### Non Depth Based Results"
   ]
  },
  {
   "cell_type": "code",
   "execution_count": null,
   "metadata": {},
   "outputs": [],
   "source": [
    "# Get simulation results for time range (or for a previously run simulation)\n",
    "from_time = 95\n",
    "to_time = 105\n",
    "tags = [\"SPP\", \"FlowRateIn\"]\n",
    "results = session.get_simulation_results(sim.sim_id,from_time,to_time,True, tags) # see cell below for explanation of the True\n",
    "pr.pprint(results)"
   ]
  },
  {
   "cell_type": "markdown",
   "metadata": {},
   "source": [
    "### Depth Based Results"
   ]
  },
  {
   "cell_type": "code",
   "execution_count": null,
   "metadata": {},
   "outputs": [],
   "source": [
    "# Setting true in get_simulation_results will exlude depth based values for all but last setpoint.\n",
    "from_time = 95\n",
    "to_time = 105\n",
    "tags = [\"DrillstringTension\", \"SPP\", \"FlowRateIn\"]\n",
    "depth_results = session.get_simulation_results(\n",
    "    sim.sim_id , from_time , to_time , True , tags) # Pass in False to get all depth based values\n",
    "pr.pprint(depth_results) #notice when True, only the last requested setpoint has depth based-values"
   ]
  },
  {
   "cell_type": "markdown",
   "metadata": {},
   "source": [
    "# Plotting"
   ]
  },
  {
   "cell_type": "markdown",
   "metadata": {},
   "source": [
    "### Plot Non-depth Results \n",
    "***(using list comprehension)***\n",
    "\n",
    "List comprehension provides a more concise way to make a new list from e.g. a dictionary of dictionaries\n",
    "Normally, this is done with a for loop like:\n",
    "\n",
    "`\n",
    "new_list = list()\n",
    "for i in old_list.keys():\n",
    "    new_list.append(old_list[i][key])\n",
    "    `\n",
    "    \n",
    "which can be replaced with a one liner (which for me is harder to read)\n",
    "\n",
    "`\n",
    "new_list = [old_list[i][key] for i in old_list.keys()]`"
   ]
  },
  {
   "cell_type": "code",
   "execution_count": null,
   "metadata": {},
   "outputs": [],
   "source": [
    "#get results for the two plots we want (depth and non-depth based results)\n",
    "startTime = 95\n",
    "endTime = 120\n",
    "tags = [\"SPP\", \"FlowRateIn\", \"DrillstringTension\", \"DrillstringBucklingLimit\"]\n",
    "results = session.get_simulation_results(sim.sim_id,startTime,endTime,True, tags)\n",
    "\n",
    "#create a list of timesteps for the x-axis\n",
    "x = (list(results.keys()))\n",
    "\n",
    "#list comprehensions for the y-axes\n",
    "flow = [results[t]['FlowRateIn'] for t in x]\n",
    "spp = [results[t]['SPP'] for t in x]\n",
    "\n",
    "#initialize figure\n",
    "fig = plt.figure()\n",
    "fig.legend(['Flow', 'SPP'], loc = 'upper center')\n",
    "\n",
    "#create first axis\n",
    "ax1 = fig.add_subplot(111)\n",
    "ax1.set_ylabel('Flow')\n",
    "ax1.plot(x, flow, 'k')\n",
    "\n",
    "#initialize a second 'twin' axis that shares the x-axis\n",
    "ax2 = ax1.twinx()\n",
    "ax2.set_ylabel('SPP')\n",
    "ax2.plot(x, spp, 'r-')"
   ]
  },
  {
   "cell_type": "markdown",
   "metadata": {},
   "source": [
    "### Plot depth based results \n",
    "(***using lambda function***)"
   ]
  },
  {
   "cell_type": "code",
   "execution_count": null,
   "metadata": {},
   "outputs": [],
   "source": [
    "# map a lamda function\n",
    "extract_depth = lambda data: (data['v'], data['d']) #'lambda' signals next thing(s) are argument(s) and it returns what is after ':'\n",
    "tensions = map(extract_depth, results[120][\"DrillstringTension\"])\n",
    "limits = map(extract_depth, results[120][\"DrillstringBucklingLimit\"])\n",
    "\n",
    "plt.gca().invert_yaxis() #invert y-axis\n",
    "plt.plot(*zip(*tensions),'k',*zip(*limits),'r--')"
   ]
  },
  {
   "cell_type": "markdown",
   "metadata": {},
   "source": [
    "# Ending Simulation\n",
    "For When `Simulation.end_simulation_on_exiting = False` *(True by default)*"
   ]
  },
  {
   "cell_type": "code",
   "execution_count": null,
   "metadata": {},
   "outputs": [],
   "source": [
    "sim.stop()"
   ]
  }
 ],
 "metadata": {
  "kernelspec": {
   "display_name": "Python 3",
   "language": "python",
   "name": "python3"
  },
  "language_info": {
   "codemirror_mode": {
    "name": "ipython",
    "version": 3
   },
   "file_extension": ".py",
   "mimetype": "text/x-python",
   "name": "python",
   "nbconvert_exporter": "python",
   "pygments_lexer": "ipython3",
   "version": "3.6.2"
  }
 },
 "nbformat": 4,
 "nbformat_minor": 2
}
