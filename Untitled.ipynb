{
 "cells": [
  {
   "cell_type": "code",
   "execution_count": 2,
   "metadata": {},
   "outputs": [],
   "source": [
    "import openlab"
   ]
  },
  {
   "cell_type": "markdown",
   "metadata": {},
   "source": [
    "**Credentials**"
   ]
  },
  {
   "cell_type": "code",
   "execution_count": 3,
   "metadata": {},
   "outputs": [],
   "source": [
    "username=\"a.holsaeter@gmail.com\"\n",
    "apikey=\"79CD39A92DB3DA28D955945DB8E1806CB939E2F7D5F1A02E85FBF462FCA41B73\"\n",
    "licenseguid=\"777ba565-d08f-4345-9773-ef09c2ebcfee\""
   ]
  },
  {
   "cell_type": "code",
   "execution_count": 4,
   "metadata": {},
   "outputs": [
    {
     "name": "stdout",
     "output_type": "stream",
     "text": [
      "Initializing http client...\n",
      "Saving token...\n",
      "Login Succesfull\n"
     ]
    }
   ],
   "source": [
    "session = openlab.http_client(username = username, apikey = apikey, licenseguid = licenseguid)"
   ]
  },
  {
   "cell_type": "code",
   "execution_count": 5,
   "metadata": {},
   "outputs": [],
   "source": [
    "# Simulation initialization\n",
    "config_name = \"test\"\n",
    "sim_name = \"Simulation with python\"\n",
    "initial_bit_depth = 2500"
   ]
  },
  {
   "cell_type": "code",
   "execution_count": 6,
   "metadata": {},
   "outputs": [
    {
     "name": "stdout",
     "output_type": "stream",
     "text": [
      "User limits: {'MaxConcurrentSimulations': 1, 'MaxTimeStep': 10800}\n",
      "influx_type:  {}\n",
      "No influx mode selected. Defaulting to 'no influx and loss'\n",
      "Using non-transient model\n",
      "Simulation Initialized\n"
     ]
    }
   ],
   "source": [
    "sim = session.create_simulation(config_name, sim_name, initial_bit_depth)"
   ]
  },
  {
   "cell_type": "code",
   "execution_count": 7,
   "metadata": {},
   "outputs": [],
   "source": [
    "sim.auto_step(10)"
   ]
  },
  {
   "cell_type": "code",
   "execution_count": 8,
   "metadata": {},
   "outputs": [],
   "source": [
    "sim.setpoints.FlowRateIn = 0.05\n",
    "sim.setpoints.SurfaceRPM = 1"
   ]
  },
  {
   "cell_type": "code",
   "execution_count": 9,
   "metadata": {},
   "outputs": [
    {
     "name": "stdout",
     "output_type": "stream",
     "text": [
      "Ending simulation 599064bc-4d79-454a-868e-f52f88a51062\n",
      "599064bc-4d79-454a-868e-f52f88a51062 was completed\n"
     ]
    }
   ],
   "source": [
    "sim.stop()"
   ]
  }
 ],
 "metadata": {
  "celltoolbar": "Raw Cell Format",
  "kernelspec": {
   "display_name": "Python 3",
   "language": "python",
   "name": "python3"
  },
  "language_info": {
   "codemirror_mode": {
    "name": "ipython",
    "version": 3
   },
   "file_extension": ".py",
   "mimetype": "text/x-python",
   "name": "python",
   "nbconvert_exporter": "python",
   "pygments_lexer": "ipython3",
   "version": "3.6.2"
  }
 },
 "nbformat": 4,
 "nbformat_minor": 2
}
