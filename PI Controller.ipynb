{
 "cells": [
  {
   "cell_type": "markdown",
   "metadata": {},
   "source": [
    "# PI Controller\n",
    "This is an example that shows how to use the PI controller to control a BHP by adjusting a choke opening.\n",
    "It will first set a constant flow rate and choke opening and then after 60 seconds the BHP will be controlled by varying the choke opening (via a PI controller) while maintaining a constant flow rate\n",
    "Can be used to show the importance of proper PID tuning"
   ]
  },
  {
   "cell_type": "code",
   "execution_count": null,
   "metadata": {},
   "outputs": [],
   "source": [
    "import openlab\n",
    "import numpy as np\n",
    "import matplotlib.pyplot as plt"
   ]
  },
  {
   "cell_type": "code",
   "execution_count": null,
   "metadata": {},
   "outputs": [],
   "source": [
    "#Input python generated scripts from live.openlab.app\n",
    "username = None\n",
    "apikey = None\n",
    "licenseguid = None"
   ]
  },
  {
   "cell_type": "code",
   "execution_count": null,
   "metadata": {},
   "outputs": [],
   "source": [
    "# login and setup client\n",
    "session = openlab.http_client(username=username, apikey=apikey, licenseguid=licenseguid)"
   ]
  },
  {
   "cell_type": "code",
   "execution_count": null,
   "metadata": {},
   "outputs": [],
   "source": [
    "config_name = \"test\"\n",
    "sim_name = \"Simulation from Notebook\"\n",
    "initial_depth = 2500"
   ]
  },
  {
   "cell_type": "markdown",
   "metadata": {},
   "source": [
    "## PID Tuning"
   ]
  },
  {
   "cell_type": "code",
   "execution_count": null,
   "metadata": {},
   "outputs": [],
   "source": [
    "#PI controller settings\n",
    "referenceBHPPressure = 380 *100000 # Pa\n",
    "initialChokeOpening = 0.25 # 0 = closed , 1 = open\n",
    "\n",
    "kp = -0.02 # first try for tuning the pi controller\n",
    "ki = kp/10\n",
    "ts = 1\n",
    "pi = openlab.piController.Controler(kp, ki, ts, referenceBHPPressure,initialChokeOpening)"
   ]
  },
  {
   "cell_type": "code",
   "execution_count": null,
   "metadata": {},
   "outputs": [],
   "source": [
    "# results we want \n",
    "tags=[\"SPP\", \"DownholeECD\", \"FlowRateOut\", \"ChokeOpening\", \"DownholePressure\"]"
   ]
  },
  {
   "cell_type": "code",
   "execution_count": null,
   "metadata": {},
   "outputs": [],
   "source": [
    "#initialize simulation\n",
    "sim = session.create_simulation(config_name,sim_name,2500)\n",
    "timeStep = 1"
   ]
  },
  {
   "cell_type": "code",
   "execution_count": null,
   "metadata": {},
   "outputs": [],
   "source": [
    "#units\n",
    "FLOW_UNIT_CONV_FACTOR= 1.66666667 * 0.00001#float(\"10e-5\") # l/min --> m^3/s\n",
    "PRESSURE_CONV_FACTOR= 100000.0 # float(\"10e5\") # bar-->pascal"
   ]
  },
  {
   "cell_type": "code",
   "execution_count": null,
   "metadata": {},
   "outputs": [],
   "source": [
    "#Plot stuff\n",
    "%matplotlib inline\n",
    "%load_ext autoreload\n",
    "%autoreload 2\n",
    "%matplotlib notebook"
   ]
  },
  {
   "cell_type": "markdown",
   "metadata": {},
   "source": [
    "## Running the simulation"
   ]
  },
  {
   "cell_type": "code",
   "execution_count": null,
   "metadata": {},
   "outputs": [],
   "source": [
    "#configure plot \n",
    "fig, ((plot_q, plot_choke), (plot_bhp,plot_spp)) = plt.subplots(2, 2,sharex=True)\n",
    "\n",
    "startTime = timeStep\n",
    "endTime = startTime + 150\n",
    "\n",
    "plot_q.set_xlim(startTime,endTime)\n",
    "plot_bhp.set_xlim(startTime,endTime)\n",
    "plot_q.set_ylim(1500,3000) #3000 l/min\n",
    "plot_choke.set_ylim(0,0.5)   #fraction\n",
    "plot_bhp.set_ylim(300,400) #500 bar\n",
    "plot_spp.set_ylim(0,500) #500 bar\n",
    "\n",
    "plot_q.set_title('Flow Rate Out (l/min)')\n",
    "plot_choke.set_title('Choke Opening')\n",
    "plot_bhp.set_title('Downhole Pressure(bar)')\n",
    "plot_spp.set_title('SPP (bar)')\n",
    "plot_bhp.set_xlabel('Time Step (seconds)')\n",
    "plot_spp.set_xlabel('Time Step (seconds)')\n",
    "\n",
    "\n",
    "plt.ion() #make plot interactive\n",
    "plt.show()\n",
    "fig.canvas.draw()\n",
    "\n",
    "#empty lists for plots\n",
    "steps_ = list()\n",
    "spps_ = list()\n",
    "qs_= list()\n",
    "chokes_= list()\n",
    "ps_ = list()\n",
    "\n",
    "rampStartTime = timeStep + 60\n",
    "initialFlowRate = 2000/60000\n",
    "targetFlowRate = 2500/60000\n",
    "\n",
    "for timeStep in range(startTime,endTime):\n",
    "    \n",
    "    if timeStep >= rampStartTime:\n",
    "        if timeStep == rampStartTime:\n",
    "            #reset PI controller before usage, set reference value and initial output = initial choke opening\n",
    "            pi.reset(referenceBHPPressure, sim.results.ChokeOpening[timeStep-1])\n",
    "            flowRateIn = targetFlowRate \n",
    "        \n",
    "        chokeOpening = pi.getOutput(sim.results.DownholePressure[timeStep-1])\n",
    "\n",
    "    else: #constant flow rate and choke opening\n",
    "        flowRateIn = 2000/60000\n",
    "        chokeOpening = initialChokeOpening\n",
    "\n",
    "    #set setpoints \n",
    "    sim.setpoints.FlowRateIn = flowRateIn\n",
    "    sim.setpoints.ChokeOpening = chokeOpening\n",
    "    \n",
    "    #step simulator\n",
    "    sim.step(timeStep)         \n",
    "\n",
    "    #ask results\n",
    "    sim.get_results(timeStep,tags)\n",
    "\n",
    "    spp = sim.results.SPP[timeStep]/PRESSURE_CONV_FACTOR\n",
    "    p = sim.results.DownholePressure[timeStep]/PRESSURE_CONV_FACTOR\n",
    "    q = sim.results.FlowRateOut[timeStep]/FLOW_UNIT_CONV_FACTOR\n",
    "    choke = sim.results.ChokeOpening[timeStep]\n",
    "    \n",
    "    plot_q.scatter(timeStep , q, c='b', s= 1) #c = color; s = size\n",
    "    plot_choke.scatter(timeStep,choke, c='b', s = 1)\n",
    "    plot_bhp.scatter(timeStep,p, c='b',s=1)\n",
    "    plot_spp.scatter(timeStep,spp, c='b',s=1)\n",
    "    \n",
    "    fig.canvas.draw()   # draw\n",
    "    \n",
    "    #advance the simulation    \n",
    "    timeStep = timeStep + 1"
   ]
  },
  {
   "cell_type": "markdown",
   "metadata": {},
   "source": [
    "*Note that after the above for loop has completed, the graph can be dragged to make it bigger"
   ]
  },
  {
   "cell_type": "markdown",
   "metadata": {},
   "source": [
    "We see that the controller is not tuned correctly because there are large oscillations, meaning that the kp gain is too high.\n",
    "\n",
    "Common PID tuning strategy is to reduce the kp value by half until no oscillations are present.\n",
    "\n",
    "Go back to the \"PID Tuning\" section above, and change kp from -0.02 to -0.01 and hit run to reset the controller.\n",
    "\n",
    "Now run the simulation again by pressing run and notice how much the oscillations have imporved"
   ]
  },
  {
   "cell_type": "code",
   "execution_count": null,
   "metadata": {},
   "outputs": [],
   "source": [
    "#stop the sim once you have experimenting some with tuning the PI controller\n",
    "sim.stop()"
   ]
  }
 ],
 "metadata": {
  "kernelspec": {
   "display_name": "Python 3",
   "language": "python",
   "name": "python3"
  },
  "language_info": {
   "codemirror_mode": {
    "name": "ipython",
    "version": 3
   },
   "file_extension": ".py",
   "mimetype": "text/x-python",
   "name": "python",
   "nbconvert_exporter": "python",
   "pygments_lexer": "ipython3",
   "version": "3.6.2"
  }
 },
 "nbformat": 4,
 "nbformat_minor": 2
}
